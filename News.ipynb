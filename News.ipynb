{
  "nbformat": 4,
  "nbformat_minor": 0,
  "metadata": {
    "colab": {
      "provenance": [],
      "authorship_tag": "ABX9TyOeE+qBHrl2VXfBnPojLOI7",
      "include_colab_link": true
    },
    "kernelspec": {
      "name": "python3",
      "display_name": "Python 3"
    },
    "language_info": {
      "name": "python"
    }
  },
  "cells": [
    {
      "cell_type": "markdown",
      "metadata": {
        "id": "view-in-github",
        "colab_type": "text"
      },
      "source": [
        "<a href=\"https://colab.research.google.com/github/Wuuuuu05/News/blob/main/News.ipynb\" target=\"_parent\"><img src=\"https://colab.research.google.com/assets/colab-badge.svg\" alt=\"Open In Colab\"/></a>"
      ]
    },
    {
      "cell_type": "code",
      "execution_count": null,
      "metadata": {
        "id": "5pJZgvVn91aV"
      },
      "outputs": [],
      "source": [
        "import requests\n",
        "from bs4 import BeautifulSoup\n",
        "\n",
        "# 利用 requests 對 API 來源發送一個請求\n",
        "response = requests.get('https://udn.com/news/breaknews/1')\n",
        "soup = BeautifulSoup(response.text)\n",
        "\n",
        "news = []\n",
        "for link in soup.find_all('h3', class_='rounded-thumb__title')[:4]:\n",
        "  news_url = link.a['href']\n",
        "  news_response = requests.get('https://udn.com' + news_url)\n",
        "  news_soup = BeautifulSoup(news_response.text)\n",
        "  news_content = news_soup.find('div', class_='article-content__paragraph').text.strip().replace('\\n', ' ')\n",
        "  news.append(news_content)"
      ]
    }
  ]
}